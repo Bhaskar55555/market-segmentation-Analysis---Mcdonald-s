{
 "cells": [
  {
   "cell_type": "code",
   "execution_count": 1,
   "id": "1986118e",
   "metadata": {},
   "outputs": [
    {
     "ename": "ModuleNotFoundError",
     "evalue": "No module named 'bioinfokit'",
     "output_type": "error",
     "traceback": [
      "\u001b[1;31m---------------------------------------------------------------------------\u001b[0m",
      "\u001b[1;31mModuleNotFoundError\u001b[0m                       Traceback (most recent call last)",
      "\u001b[1;32m~\\AppData\\Local\\Temp\\ipykernel_5312\\3113759430.py\u001b[0m in \u001b[0;36m<module>\u001b[1;34m\u001b[0m\n\u001b[0;32m      2\u001b[0m \u001b[1;32mimport\u001b[0m \u001b[0mpandas\u001b[0m \u001b[1;32mas\u001b[0m \u001b[0mpd\u001b[0m\u001b[1;33m\u001b[0m\u001b[1;33m\u001b[0m\u001b[0m\n\u001b[0;32m      3\u001b[0m \u001b[1;32mimport\u001b[0m \u001b[0mmatplotlib\u001b[0m\u001b[1;33m.\u001b[0m\u001b[0mpyplot\u001b[0m \u001b[1;32mas\u001b[0m \u001b[0mplt\u001b[0m\u001b[1;33m\u001b[0m\u001b[1;33m\u001b[0m\u001b[0m\n\u001b[1;32m----> 4\u001b[1;33m \u001b[1;32mimport\u001b[0m \u001b[0mbioinfokit\u001b[0m \u001b[1;32mas\u001b[0m \u001b[0mbio\u001b[0m\u001b[1;33m\u001b[0m\u001b[1;33m\u001b[0m\u001b[0m\n\u001b[0m\u001b[0;32m      5\u001b[0m \u001b[1;32mimport\u001b[0m \u001b[0mseaborn\u001b[0m \u001b[1;32mas\u001b[0m \u001b[0msns\u001b[0m\u001b[1;33m\u001b[0m\u001b[1;33m\u001b[0m\u001b[0m\n",
      "\u001b[1;31mModuleNotFoundError\u001b[0m: No module named 'bioinfokit'"
     ]
    }
   ],
   "source": [
    "import numpy as np\n",
    "import pandas as pd\n",
    "import matplotlib.pyplot as plt\n",
    "import bioinfokit as bio\n",
    "import seaborn as sns"
   ]
  },
  {
   "cell_type": "code",
   "execution_count": null,
   "id": "1707bda7",
   "metadata": {},
   "outputs": [],
   "source": [
    "dataset = pd.read_csv(\"mcdonalds.csv\")\n",
    "dataset"
   ]
  },
  {
   "cell_type": "code",
   "execution_count": null,
   "id": "5f35e639",
   "metadata": {},
   "outputs": [],
   "source": [
    "dataset.info(3)"
   ]
  },
  {
   "cell_type": "code",
   "execution_count": null,
   "id": "94b67d30",
   "metadata": {},
   "outputs": [],
   "source": [
    "dataset.shape"
   ]
  },
  {
   "cell_type": "code",
   "execution_count": null,
   "id": "99f2e7fc",
   "metadata": {},
   "outputs": [],
   "source": [
    "dataset.mean()"
   ]
  },
  {
   "cell_type": "code",
   "execution_count": null,
   "id": "77be6c6f",
   "metadata": {},
   "outputs": [],
   "source": [
    "Gender = [\"Female\", \"Male\"]\n",
    "Color = [\"pink\", \"cyan\"]\n",
    "Size = dataset[\"Gender\"].value_counts()\n",
    "plt.pie(Size, labels=Gender, colors=Color, autopct=\"%.2f%%\")\n",
    "plt.legend()\n",
    "plt.show()"
   ]
  },
  {
   "cell_type": "code",
   "execution_count": null,
   "id": "780ee0c7",
   "metadata": {},
   "outputs": [],
   "source": [
    "f = sns.countplot(x=dataset[\"Age\"], palette='hsv')\n",
    "f.bar_label(f.containers[0])\n",
    "plt.rcParams['figure.figsize'] = (25, 8)"
   ]
  },
  {
   "cell_type": "code",
   "execution_count": null,
   "id": "ae9898f3",
   "metadata": {},
   "outputs": [],
   "source": [
    "dataset[\"Like\"]=dataset[\"Like\"].replace({'I hate it!-5': '-5', 'I love it!+5':'+5'})\n",
    "dataset.dtypes"
   ]
  },
  {
   "cell_type": "code",
   "execution_count": null,
   "id": "2998767e",
   "metadata": {},
   "outputs": [],
   "source": [
    "from sklearn.preprocessing import LabelEncoder\n",
    "le = LabelEncoder()\n",
    "\n",
    "cols=[\"yummy\", \"convenient\", \"spicy\", \"fattening\", \"greasy\", \"fast\", \"cheap\", \"tasty\", \"expensive\", \"healthy\", \"disgusting\"]\n",
    "    \n",
    "for i in cols:\n",
    "    dataset[i]=le.fit_transform(dataset[i])\n"
   ]
  },
  {
   "cell_type": "code",
   "execution_count": null,
   "id": "ad3879e4",
   "metadata": {},
   "outputs": [],
   "source": [
    "dataset"
   ]
  },
  {
   "cell_type": "code",
   "execution_count": null,
   "id": "5e3c4e95",
   "metadata": {},
   "outputs": [],
   "source": [
    "dataset.hist()"
   ]
  },
  {
   "cell_type": "code",
   "execution_count": null,
   "id": "9aadd42d",
   "metadata": {},
   "outputs": [],
   "source": [
    "x = dataset.loc[:, cols]\n",
    "x"
   ]
  },
  {
   "cell_type": "code",
   "execution_count": null,
   "id": "17df8330",
   "metadata": {},
   "outputs": [],
   "source": [
    "from sklearn.decomposition import PCA\n",
    "from sklearn import preprocessing\n",
    "\n",
    "pca_data = preprocessing.scale(x)\n",
    "\n",
    "pca = PCA(n_components=11)\n",
    "pc = pca.fit_transform(x)\n",
    "names=[\"pc1\", \"pc2\", \"pc3\", \"pc4\", \"pc5\", \"pc6\", \"pc7\", \"pc8\", \"pc9\", \"pc10\", \"pc11\"]\n",
    "pf = pd.DataFrame(data=pc, columns=names)\n",
    "pf"
   ]
  },
  {
   "cell_type": "code",
   "execution_count": null,
   "id": "6f0c9b47",
   "metadata": {},
   "outputs": [],
   "source": [
    "std_dev = []\n",
    "for i in names:\n",
    "    std_dev.append(np.std(pf[i]))\n",
    "    \n",
    "print(\"Standard Deviation\")\n",
    "np.array(std_dev)"
   ]
  },
  {
   "cell_type": "code",
   "execution_count": null,
   "id": "6789e1a7",
   "metadata": {},
   "outputs": [],
   "source": [
    "pov = pca.explained_variance_ratio_\n",
    "print(\"Proportion of Variance\")\n",
    "pov"
   ]
  },
  {
   "cell_type": "code",
   "execution_count": null,
   "id": "af18a6be",
   "metadata": {},
   "outputs": [],
   "source": [
    "cp = np.cumsum(pca.explained_variance_ratio_)\n",
    "print(\"Cumulative Proportion\")\n",
    "cp"
   ]
  },
  {
   "cell_type": "code",
   "execution_count": null,
   "id": "471543ea",
   "metadata": {},
   "outputs": [],
   "source": [
    "components = pca.components_\n",
    "num_pc = pca.n_features_\n",
    "pc_name = [\"PC\"+str(i) for i in range(1, num_pc+1)]\n",
    "loadings_df = pd.DataFrame"
   ]
  },
  {
   "cell_type": "code",
   "execution_count": null,
   "id": "0ec39256",
   "metadata": {},
   "outputs": [],
   "source": [
    "from sklearn.cluster import KMeans\n",
    "\n",
    "wcss=[]\n",
    "for i in range(1, 11):\n",
    "    kmeans = KMeans(n_clusters=i, init='k-means++', random_state=42)\n",
    "    kmeans.fit(pf)\n",
    "    wcss.append(kmeans.inertia_)\n",
    "\n",
    "plt.plot(range(1, 11), wcss)\n",
    "plt.title(\"Elbow method\")\n",
    "plt.xlabel(\"Number of clusters\")\n",
    "plt.ylabel(\"WCSS\")\n",
    "plt.show()"
   ]
  },
  {
   "cell_type": "code",
   "execution_count": null,
   "id": "29f2b01c",
   "metadata": {},
   "outputs": [],
   "source": [
    "#K-means clustering \n",
    "\n",
    "kmeans = KMeans(n_clusters=4, init='k-means++', random_state=0).fit(x)\n",
    "dataset['cluster_num'] = kmeans.labels_ #adding to df\n",
    "print (kmeans.labels_) #Label assigned for each data point\n",
    "print (kmeans.inertia_) #gives within-cluster sum of squares. \n",
    "print(kmeans.n_iter_) #number of iterations that k-means algorithm runs to get a minimum within-cluster sum of squares\n",
    "print(kmeans.cluster_centers_) #Location of the centroids on each cluster. "
   ]
  },
  {
   "cell_type": "code",
   "execution_count": null,
   "id": "188f6ec9",
   "metadata": {},
   "outputs": [],
   "source": [
    "from collections import Counter\n",
    "Counter(kmeans.labels_)"
   ]
  },
  {
   "cell_type": "code",
   "execution_count": null,
   "id": "ed801458",
   "metadata": {},
   "outputs": [],
   "source": [
    "# correlation coefficient between original variables and the component\n",
    "\n",
    "loadings = pca.components_\n",
    "num_pc = pca.n_features_\n",
    "pc_list = [\"PC\"+str(i) for i in list(range(1, num_pc+1))]\n",
    "loadings_df = pd.DataFrame.from_dict(dict(zip(pc_list, loadings)))\n",
    "loadings_df['variable'] = x.columns.values\n",
    "loadings_df = loadings_df.set_index('variable')\n",
    "loadings_df"
   ]
  },
  {
   "cell_type": "code",
   "execution_count": null,
   "id": "c23d4acb",
   "metadata": {},
   "outputs": [],
   "source": [
    "#Scree plot (Elbow test)- PCA\n",
    "from bioinfokit.visuz import cluster\n",
    "cluster.screeplot(obj=[pc_list, pca.explained_variance_ratio_],show=True,dim=(10,5))# get PC scores\n",
    "pca_scores = PCA().fit_transform(x)\n",
    "\n",
    "# get 2D biplot\n",
    "cluster.biplot(cscore=pca_scores, loadings=loadings, labels=dataset.columns.values, var1=round(pca.explained_variance_ratio_[0]*100, 2),\n",
    "    var2=round(pca.explained_variance_ratio_[1]*100, 2),show=True,dim=(10,5))"
   ]
  },
  {
   "cell_type": "code",
   "execution_count": null,
   "id": "b526207c",
   "metadata": {},
   "outputs": [],
   "source": [
    "f = sns.countplot(x=dataset[\"cluster_num\"], palette='hsv')\n",
    "f.bar_label(f.containers[0])\n",
    "plt.rcParams['figure.figsize'] = (25, 8)\n",
    "# print(len(dataset['cluster_num'][1]))"
   ]
  },
  {
   "cell_type": "code",
   "execution_count": null,
   "id": "fb647443",
   "metadata": {},
   "outputs": [],
   "source": [
    "dataset1=pd.get_dummies(dataset, prefix=['cluster_num'], columns=['cluster_num'])\n"
   ]
  },
  {
   "cell_type": "code",
   "execution_count": null,
   "id": "fe51b68c",
   "metadata": {},
   "outputs": [],
   "source": [
    "dataset1"
   ]
  },
  {
   "cell_type": "code",
   "execution_count": null,
   "id": "a8eb1a3b",
   "metadata": {},
   "outputs": [],
   "source": [
    "#Gender\n",
    "# df['Gender'] = LabelEncoder().fit_transform(df['Gender'])\n",
    "result=[]\n",
    "for i in cols:\n",
    "    Gender = dataset.groupby(['cluster_num'])[i].mean()\n",
    "    Gender = Gender.to_frame().reset_index()\n",
    "    result.append(Gender)"
   ]
  },
  {
   "cell_type": "code",
   "execution_count": null,
   "id": "1638bda5",
   "metadata": {},
   "outputs": [],
   "source": [
    "for i in range(len(result)):\n",
    "    print(pd.DataFrame(result[i]))"
   ]
  },
  {
   "cell_type": "code",
   "execution_count": null,
   "id": "2c820933",
   "metadata": {},
   "outputs": [],
   "source": [
    "dataset1=pd.get_dummies(dataset, prefix=['VisitFrequency'], columns=['VisitFrequency'])\n"
   ]
  },
  {
   "cell_type": "code",
   "execution_count": null,
   "id": "a65158e6",
   "metadata": {},
   "outputs": [],
   "source": [
    "dataset1"
   ]
  },
  {
   "cell_type": "code",
   "execution_count": null,
   "id": "7bd50222",
   "metadata": {},
   "outputs": [],
   "source": [
    "for i in dataset1.columns:\n",
    "    sns.countplot(y=dataset1[i], hue=dataset1['cluster_num'], data=dataset1)\n",
    "#     plt.rcParams['figure.figsize'] = (25, 8)\n",
    "    plt.rcParams['figure.dpi'] = 140\n",
    "    plt.rcParams['font.size'] = 20\n",
    "    plt.show()\n",
    "\n",
    "# for i in ['cluster_num_0', 'cluster_num_1', 'cluster_num_2', 'cluster_num_3']:\n",
    "#     for j in cols:\n",
    "#         sns.countplot(x=dataset1[i], hue=dataset1[j])\n",
    "#         plt.show()"
   ]
  },
  {
   "cell_type": "code",
   "execution_count": null,
   "id": "cb3ab46c",
   "metadata": {},
   "outputs": [],
   "source": [
    "sns.scatterplot(data=pf, x=\"pc1\", y=\"pc2\", hue=kmeans.labels_)\n",
    "plt.scatter(kmeans.cluster_centers_[:,0], kmeans.cluster_centers_[:,1], \n",
    "            marker=\"X\", c=\"r\", s=80, label=\"centroids\")\n",
    "plt.rcParams['figure.figsize'] = (10, 10)\n",
    "plt.rcParams['font.size'] = 16\n",
    "plt.legend()\n",
    "plt.show()"
   ]
  },
  {
   "cell_type": "code",
   "execution_count": null,
   "id": "8809ff7c",
   "metadata": {},
   "outputs": [],
   "source": [
    "from statsmodels.graphics.mosaicplot import mosaic\n",
    "from itertools import product\n",
    "crosstab =pd.crosstab(dataset['cluster_num'],dataset['Like'])\n",
    "#Reordering cols\n",
    "crosstab = crosstab[['-5','-4','-3','-2','-1','0','+1','+2','+3','+4','+5']]\n",
    "crosstab "
   ]
  },
  {
   "cell_type": "code",
   "execution_count": null,
   "id": "ae20032b",
   "metadata": {},
   "outputs": [],
   "source": [
    "mosaic(crosstab.stack())\n",
    "plt.rcParams['figure.figsize'] = (5, 5)\n",
    "plt.rcParams['font.size'] = 5\n",
    "plt.show()"
   ]
  },
  {
   "cell_type": "code",
   "execution_count": null,
   "id": "a637252f",
   "metadata": {},
   "outputs": [],
   "source": [
    "crosstab =pd.crosstab(dataset['cluster_num'],dataset['Gender'])\n",
    "#Reordering cols\n",
    "crosstab = crosstab[['Female', 'Male']]\n",
    "mosaic(crosstab.stack())\n",
    "plt.show()"
   ]
  },
  {
   "cell_type": "code",
   "execution_count": null,
   "id": "b4b22642",
   "metadata": {},
   "outputs": [],
   "source": [
    "sns.boxplot(x='cluster_num', y='Age', data=dataset1)\n"
   ]
  },
  {
   "cell_type": "code",
   "execution_count": null,
   "id": "548aa710",
   "metadata": {},
   "outputs": [],
   "source": []
  },
  {
   "cell_type": "code",
   "execution_count": null,
   "id": "8347acad",
   "metadata": {},
   "outputs": [],
   "source": []
  }
 ],
 "metadata": {
  "kernelspec": {
   "display_name": "Python 3 (ipykernel)",
   "language": "python",
   "name": "python3"
  },
  "language_info": {
   "codemirror_mode": {
    "name": "ipython",
    "version": 3
   },
   "file_extension": ".py",
   "mimetype": "text/x-python",
   "name": "python",
   "nbconvert_exporter": "python",
   "pygments_lexer": "ipython3",
   "version": "3.9.13"
  }
 },
 "nbformat": 4,
 "nbformat_minor": 5
}
